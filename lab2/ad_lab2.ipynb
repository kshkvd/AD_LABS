{
 "cells": [
  {
   "cell_type": "markdown",
   "source": [
    " Імпорт і налаштування"
   ],
   "metadata": {
    "collapsed": false
   },
   "id": "321771da4481c618"
  },
  {
   "cell_type": "code",
   "execution_count": 36,
   "outputs": [],
   "source": [
    "import os\n",
    "import urllib.request\n",
    "from datetime import datetime\n",
    "import pandas as pd\n",
    "\n",
    "BASE_URL = \"https://www.star.nesdis.noaa.gov/smcd/emb/vci/VH/get_TS_admin.php\"\n",
    "DATA_DIR = \"data\"\n"
   ],
   "metadata": {
    "collapsed": false,
    "ExecuteTime": {
     "end_time": "2025-05-05T17:26:10.423841700Z",
     "start_time": "2025-05-05T17:26:10.372088900Z"
    }
   },
   "id": "57fa97a603bbea3"
  },
  {
   "cell_type": "markdown",
   "source": [
    "Функції"
   ],
   "metadata": {
    "collapsed": false
   },
   "id": "fffebf0bd06cc0cb"
  },
  {
   "cell_type": "code",
   "execution_count": 37,
   "outputs": [],
   "source": [
    "def create_data_directory():\n",
    "    if not os.path.exists(DATA_DIR):\n",
    "        os.makedirs(DATA_DIR)\n",
    "\n",
    "def download_vhi_data(region_id):\n",
    "    now = datetime.now().strftime(\"%d%m%Y%H%M%S\")\n",
    "    filename = f\"NOAA_ID{region_id}_{now}.csv\"\n",
    "    filepath = os.path.join(DATA_DIR, filename)\n",
    "\n",
    "    if not os.path.exists(filepath):\n",
    "        url = f\"{BASE_URL}?country=UKR&provinceID={region_id}&year1=1981&year2=2024&type=Mean\"\n",
    "        try:\n",
    "            with urllib.request.urlopen(url) as response:\n",
    "                data = response.read()\n",
    "\n",
    "            with open(filepath, 'wb') as file:\n",
    "                file.write(data)\n",
    "\n",
    "            print(f\"[OK] Дані для області {region_id} збережено як {filename}\")\n",
    "        except Exception as e:\n",
    "            print(f\"[ERR] Помилка при завантаженні для області {region_id}: {e}\")\n",
    "    else:\n",
    "        print(f\"[INFO] Файл для області {region_id} вже існує: {filename}. Пропущено завантаження.\")\n",
    "\n",
    "def read_all_data(directory):\n",
    "    headers = ['Year', 'Week', 'SMN', 'SMT', 'VCI', 'TCI', 'VHI', 'empty']\n",
    "    all_frames = []\n",
    "    for file in os.listdir(directory):\n",
    "        if file.startswith(\"NOAA_ID\") and file.endswith('.csv'):\n",
    "            try:\n",
    "                df = pd.read_csv(os.path.join(directory, file), header=1, names=headers)\n",
    "                df = df[pd.to_numeric(df['Year'], errors='coerce').notnull()]\n",
    "                df['Year'] = df['Year'].astype(int)\n",
    "                df = df[df['VHI'] != -1]\n",
    "                region_id = int(file.split(\"ID\")[1].split(\"_\")[0])\n",
    "                df['filename'] = file\n",
    "                df['area'] = region_id\n",
    "                all_frames.append(df)\n",
    "            except Exception as e:\n",
    "                print(f\"[WARN] Пропущено файл {file}: {e}\")\n",
    "    if all_frames:\n",
    "        return pd.concat(all_frames, ignore_index=True)\n",
    "    else:\n",
    "        print(\"[ERR] Жоден файл не був прочитаний!\")\n",
    "        return pd.DataFrame()\n",
    "\n",
    "def rename_areas(df):\n",
    "    index_map = {\n",
    "        1: 'Вінницька', 2: 'Волинська', 3: 'Дніпропетровська', 4: 'Донецька', 5: 'Житомирська',\n",
    "        6: 'Закарпатська', 7: 'Запорізька', 8: 'Івано-Франківська', 9: 'Київська',\n",
    "        10: 'Кіровоградська', 11: 'Луганська', 12: 'Львівська', 13: 'Миколаївська',\n",
    "        14: 'Одеська', 15: 'Полтавська', 16: 'Рівенська', 17: 'Сумська', 18: 'Тернопільська',\n",
    "        19: 'Харківська', 20: 'Херсонська', 21: 'Хмельницька', 22: 'Черкаська',\n",
    "        23: 'Чернівецька', 24: 'Чернігівська', 25: 'Крим'\n",
    "    }\n",
    "    df['region_name'] = df['area'].replace(index_map)\n",
    "    return df\n"
   ],
   "metadata": {
    "collapsed": false,
    "ExecuteTime": {
     "end_time": "2025-05-05T17:26:10.522074900Z",
     "start_time": "2025-05-05T17:26:10.392025800Z"
    }
   },
   "id": "ebcbcfcabcf7f327"
  },
  {
   "cell_type": "markdown",
   "source": [
    "Статистика та вибірки"
   ],
   "metadata": {
    "collapsed": false
   },
   "id": "c7ae7138cbe3e34"
  },
  {
   "cell_type": "code",
   "execution_count": 38,
   "outputs": [],
   "source": [
    "def get_vhi_by_year(df, region, year):\n",
    "    result = df[(df['region_name'] == region) & (df['Year'] == year)][['Week', 'VHI']]\n",
    "    print(f\"\\nVHI для області {region} за рік {year}:\\n\", result)\n",
    "    return result\n",
    "\n",
    "def vhi_statistics(df, region, year):\n",
    "    filtered = df[(df['region_name'] == region) & (df['Year'] == year)]['VHI']\n",
    "    print(f\"\\nСтатистика VHI для {region} у {year} році:\")\n",
    "    print(f\"  Мінімум: {filtered.min()}\")\n",
    "    print(f\"  Максимум: {filtered.max()}\")\n",
    "    print(f\"  Середнє: {filtered.mean():.2f}\")\n",
    "    print(f\"  Медіана: {filtered.median()}\")\n",
    "\n",
    "def get_vhi_range(df, region, year_start, year_end):\n",
    "    result = df[(df['region_name'] == region) & (df['Year'].between(year_start, year_end))][['Year', 'Week', 'VHI']]\n",
    "    print(f\"\\nVHI для області {region} з {year_start} по {year_end}:\\n\", result)\n",
    "    return result\n",
    "\n",
    "def detect_droughts(df, min_regions=5):\n",
    "    droughts = df[df['VHI'] < 15]\n",
    "    drought_years = droughts.groupby('Year')['region_name'].nunique()\n",
    "    critical_years = drought_years[drought_years >= min_regions]\n",
    "    print(f\"\\nРоки з екстремальною посухою (областей >= {min_regions}):\")\n",
    "    for year in critical_years.index:\n",
    "        regions = droughts[droughts['Year'] == year]['region_name'].unique()\n",
    "        print(f\"  {year}: {len(regions)} областей -> {', '.join(regions)}\")"
   ],
   "metadata": {
    "collapsed": false,
    "ExecuteTime": {
     "end_time": "2025-05-05T17:26:10.523112Z",
     "start_time": "2025-05-05T17:26:10.417079400Z"
    }
   },
   "id": "9a9afa20735cad91"
  },
  {
   "cell_type": "markdown",
   "source": [
    "Завантаження та обробка даних"
   ],
   "metadata": {
    "collapsed": false
   },
   "id": "7b69d8d241c1196a"
  },
  {
   "cell_type": "code",
   "execution_count": 39,
   "outputs": [
    {
     "name": "stdout",
     "output_type": "stream",
     "text": [
      "Файли з даними вже існують. Пропущено завантаження.\n",
      "\n",
      "Обробка збережених файлів...\n"
     ]
    }
   ],
   "source": [
    "create_data_directory()\n",
    "\n",
    "existing_files = [f for f in os.listdir(DATA_DIR) if f.startswith(\"NOAA_ID\") and f.endswith('.csv')]\n",
    "if not existing_files:\n",
    "    print(\"Завантаження даних для всіх областей...\")\n",
    "    for i in range(1, 26):\n",
    "        download_vhi_data(i)\n",
    "else:\n",
    "    print(\"Файли з даними вже існують. Пропущено завантаження.\")\n",
    "\n",
    "print(\"\\nОбробка збережених файлів...\")\n",
    "df = read_all_data(DATA_DIR)\n",
    "df = rename_areas(df)\n",
    "df.to_csv(\"data/final_vhi_data.csv\", index=False)\n"
   ],
   "metadata": {
    "collapsed": false,
    "ExecuteTime": {
     "end_time": "2025-05-05T17:26:11.616907200Z",
     "start_time": "2025-05-05T17:26:10.433000200Z"
    }
   },
   "id": "e794403fce3776e0"
  },
  {
   "cell_type": "markdown",
   "source": [
    "Виклик функцій "
   ],
   "metadata": {
    "collapsed": false
   },
   "id": "52090335acbb94f7"
  },
  {
   "cell_type": "code",
   "execution_count": 40,
   "outputs": [
    {
     "name": "stdout",
     "output_type": "stream",
     "text": [
      "VHI для Київської області за 2023 рік\n",
      "\n",
      "VHI для області Київська за рік 2023:\n",
      "        Week    VHI\n",
      "54521   1.0  42.94\n",
      "54522   2.0  41.91\n",
      "54523   3.0  41.18\n",
      "54524   4.0  41.64\n",
      "54525   5.0  41.98\n",
      "54526   6.0  42.97\n",
      "54527   7.0  43.24\n",
      "54528   8.0  43.43\n",
      "54529   9.0  43.61\n",
      "54530  10.0  43.30\n",
      "54531  11.0  43.05\n",
      "54532  12.0  45.11\n",
      "54533  13.0  48.32\n",
      "54534  14.0  51.00\n",
      "54535  15.0  55.00\n",
      "54536  16.0  59.67\n",
      "54537  17.0  64.33\n",
      "54538  18.0  67.10\n",
      "54539  19.0  68.99\n",
      "54540  20.0  67.72\n",
      "54541  21.0  66.34\n",
      "54542  22.0  64.63\n",
      "54543  23.0  61.87\n",
      "54544  24.0  59.97\n",
      "54545  25.0  59.93\n",
      "54546  26.0  58.89\n",
      "54547  27.0  57.60\n",
      "54548  28.0  56.35\n",
      "54549  29.0  55.51\n",
      "54550  30.0  54.58\n",
      "54551  31.0  53.19\n",
      "54552  32.0  50.22\n",
      "54553  33.0  46.54\n",
      "54554  34.0  43.08\n",
      "54555  35.0  39.17\n",
      "54556  36.0  33.51\n",
      "54557  37.0  29.27\n",
      "54558  38.0  27.01\n",
      "54559  39.0  25.66\n",
      "54560  40.0  25.65\n",
      "54561  41.0  25.56\n",
      "54562  42.0  23.67\n",
      "54563  43.0  21.96\n",
      "54564  44.0  20.48\n",
      "54565  45.0  20.37\n",
      "54566  46.0  21.21\n",
      "54567  47.0  23.61\n",
      "54568  48.0  26.68\n",
      "54569  49.0  27.45\n",
      "54570  50.0  27.07\n",
      "54571  51.0  27.56\n",
      "54572  52.0  28.70\n",
      "\n",
      "Статистика VHI для Київської області за 2023 рік\n",
      "\n",
      "Статистика VHI для Київська у 2023 році:\n",
      "  Мінімум: 20.37\n",
      "  Максимум: 68.99\n",
      "  Середнє: 43.46\n",
      "  Медіана: 43.16\n",
      "\n",
      "VHI для Київської області з 2020 по 2023 рік\n",
      "\n",
      "VHI для області Київська з 2020 по 2023:\n",
      "        Year  Week    VHI\n",
      "54365  2020   1.0  45.94\n",
      "54366  2020   2.0  45.28\n",
      "54367  2020   3.0  44.67\n",
      "54368  2020   4.0  44.62\n",
      "54369  2020   5.0  44.56\n",
      "...     ...   ...    ...\n",
      "54568  2023  48.0  26.68\n",
      "54569  2023  49.0  27.45\n",
      "54570  2023  50.0  27.07\n",
      "54571  2023  51.0  27.56\n",
      "54572  2023  52.0  28.70\n",
      "\n",
      "[208 rows x 3 columns]\n",
      "\n",
      "Аналіз років з екстремальною посухою (областей ≥ 5)\n",
      "\n",
      "Роки з екстремальною посухою (областей >= 5):\n",
      "  2000: 6 областей -> Луганська, Львівська, Вінницька, Херсонська, Чернігівська, Івано-Франківська\n"
     ]
    }
   ],
   "source": [
    "print(\"VHI для Київської області за 2023 рік\")\n",
    "get_vhi_by_year(df, 'Київська', 2023)\n",
    "\n",
    "print(\"\\nСтатистика VHI для Київської області за 2023 рік\")\n",
    "vhi_statistics(df, 'Київська', 2023)\n",
    "\n",
    "print(\"\\nVHI для Київської області з 2020 по 2023 рік\")\n",
    "get_vhi_range(df, 'Київська', 2020, 2023)\n",
    "\n",
    "print(\"\\nАналіз років з екстремальною посухою (областей ≥ 5)\")\n",
    "detect_droughts(df)"
   ],
   "metadata": {
    "collapsed": false,
    "ExecuteTime": {
     "end_time": "2025-05-05T17:26:11.662629600Z",
     "start_time": "2025-05-05T17:26:11.622696600Z"
    }
   },
   "id": "1f2d30952a3e6ec6"
  }
 ],
 "metadata": {
  "kernelspec": {
   "display_name": "Python 3",
   "language": "python",
   "name": "python3"
  },
  "language_info": {
   "codemirror_mode": {
    "name": "ipython",
    "version": 2
   },
   "file_extension": ".py",
   "mimetype": "text/x-python",
   "name": "python",
   "nbconvert_exporter": "python",
   "pygments_lexer": "ipython2",
   "version": "2.7.6"
  }
 },
 "nbformat": 4,
 "nbformat_minor": 5
}
