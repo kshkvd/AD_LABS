{
 "cells": [
  {
   "cell_type": "code",
   "execution_count": 4,
   "id": "initial_id",
   "metadata": {
    "collapsed": true,
    "ExecuteTime": {
     "end_time": "2025-05-19T17:02:08.827872700Z",
     "start_time": "2025-05-19T17:02:08.774164900Z"
    }
   },
   "outputs": [],
   "source": [
    "import pandas as pd\n",
    "import numpy as np\n",
    "import time\n",
    "from datetime import datetime"
   ]
  },
  {
   "cell_type": "markdown",
   "source": [
    "--- NumPy версія ---"
   ],
   "metadata": {
    "collapsed": false
   },
   "id": "ed2fef90b63dc3de"
  },
  {
   "cell_type": "code",
   "execution_count": 5,
   "outputs": [
    {
     "name": "stdout",
     "output_type": "stream",
     "text": [
      "=== NumPy версія ===\n",
      "Час завантаження та очищення NumPy: 18.7428 сек\n",
      " NumPy: Sub_metering_2 > Sub_metering_3: 0.0485 сек\n",
      "NumPy: 5000 випадкових записів: 0.0853 сек\n",
      "NumPy: Складна умова: 0.0294 сек\n",
      "NumPy: Вибір колонок: 0.01 сек\n",
      "NumPy: Global_active_power > 5 кВт: 0.0235 сек\n",
      "NumPy: Voltage > 235 В: 0.1981 сек\n",
      "NumPy: Потужність 19-20А, група 2 найбільша: 0.031 сек\n",
      " NumPy: 500000 записів, середнє: 0.2481 сек\n",
      " Середні значення NumPy: [1.116178 1.292822 6.44049 ]\n",
      "NumPy: після 18:00, >6кВт, група 2 max, кожен 3-й/4-й: 49.7484 сек\n"
     ]
    }
   ],
   "source": [
    "print(\"=== NumPy версія ===\")\n",
    "\n",
    "# Типи даних для кожної колонки\n",
    "types = [\n",
    "    (\"Date\", \"U10\"),\n",
    "    (\"Time\", \"U8\"),\n",
    "    (\"Global_active_power\", \"f8\"),\n",
    "    (\"Global_reactive_power\", \"f8\"),\n",
    "    (\"Voltage\", \"f8\"),\n",
    "    (\"Global_intensity\", \"f8\"),\n",
    "    (\"Sub_metering_1\", \"f8\"),\n",
    "    (\"Sub_metering_2\", \"f8\"),\n",
    "    (\"Sub_metering_3\", \"f8\")\n",
    "]\n",
    "\n",
    "# Завантаження даних\n",
    "start = time.time()\n",
    "df_np = np.genfromtxt(\"household_power_consumption.txt\",\n",
    "                      missing_values=[\"?\", \"\"],\n",
    "                      delimiter=';',\n",
    "                      dtype=types,\n",
    "                      encoding=\"UTF-8\",\n",
    "                      names=True)\n",
    "df_np = df_np[~np.isnan(df_np['Global_active_power'])]\n",
    "end = time.time()\n",
    "print(\"Час завантаження та очищення NumPy:\", round(end - start, 4), \"сек\")\n",
    "\n",
    "# 1. Sub_metering_2 > Sub_metering_3\n",
    "start = time.time()\n",
    "selected_np = df_np[df_np['Sub_metering_2'] > df_np['Sub_metering_3']]\n",
    "end = time.time()\n",
    "print(\" NumPy: Sub_metering_2 > Sub_metering_3:\", round(end - start, 4), \"сек\")\n",
    "\n",
    "# 2. Випадкові 5000 записів\n",
    "start = time.time()\n",
    "random_np = df_np[np.random.choice(len(df_np), size=5000, replace=False)]\n",
    "end = time.time()\n",
    "print(\"NumPy: 5000 випадкових записів:\", round(end - start, 4), \"сек\")\n",
    "\n",
    "# 3. Складна умова\n",
    "start = time.time()\n",
    "complex_np = df_np[(df_np['Sub_metering_1'] > 1.0) & (df_np['Voltage'] > 240)]\n",
    "end = time.time()\n",
    "print(\"NumPy: Складна умова:\", round(end - start, 4), \"сек\")\n",
    "\n",
    "# 4. Вибір колонок\n",
    "start = time.time()\n",
    "columns_np = df_np[['Voltage', 'Global_intensity']]\n",
    "end = time.time()\n",
    "print(\"NumPy: Вибір колонок:\", round(end - start, 4), \"сек\")\n",
    "\n",
    "# 5. Потужність > 5 кВт\n",
    "start = time.time()\n",
    "power_np = df_np[df_np['Global_active_power'] > 5]\n",
    "end = time.time()\n",
    "print(\"NumPy: Global_active_power > 5 кВт:\", round(end - start, 4), \"сек\")\n",
    "\n",
    "# 6. Напруга > 235 В\n",
    "start = time.time()\n",
    "volt_np = df_np[df_np['Voltage'] > 235]\n",
    "end = time.time()\n",
    "print(\"NumPy: Voltage > 235 В:\", round(end - start, 4), \"сек\")\n",
    "\n",
    "# 7. Потужність 19-20А, група 2 найбільша\n",
    "start = time.time()\n",
    "current_np = df_np[(df_np['Global_intensity'] >= 19) & (df_np['Global_intensity'] <= 20)]\n",
    "cond_np = current_np[(current_np['Sub_metering_2'] > current_np['Sub_metering_1']) & \n",
    "                     (current_np['Sub_metering_2'] > current_np['Sub_metering_3'])]\n",
    "end = time.time()\n",
    "print(\"NumPy: Потужність 19-20А, група 2 найбільша:\", round(end - start, 4), \"сек\")\n",
    "\n",
    "# 8. Вибірка 500000 записів, середнє\n",
    "start = time.time()\n",
    "sample_np = df_np[np.random.choice(len(df_np), size=500000, replace=False)]\n",
    "means_np = np.array([\n",
    "    np.mean(sample_np['Sub_metering_1']),\n",
    "    np.mean(sample_np['Sub_metering_2']),\n",
    "    np.mean(sample_np['Sub_metering_3'])\n",
    "])\n",
    "end = time.time()\n",
    "print(\" NumPy: 500000 записів, середнє:\", round(end - start, 4), \"сек\")\n",
    "print(\" Середні значення NumPy:\", means_np)\n",
    "\n",
    "# 9. Після 18:00, >6 кВт, група 2 найбільша, кожен 3-й/4-й\n",
    "start = time.time()\n",
    "times_np = np.array([datetime.strptime(t, \"%H:%M:%S\").time() for t in df_np['Time']])\n",
    "after_18_mask = np.array([t >= datetime.strptime(\"18:00:00\", \"%H:%M:%S\").time() for t in times_np])\n",
    "filtered_np = df_np[(df_np['Global_active_power'] > 6) & after_18_mask]\n",
    "group2_mask = (filtered_np['Sub_metering_2'] > filtered_np['Sub_metering_1']) & \\\n",
    "              (filtered_np['Sub_metering_2'] > filtered_np['Sub_metering_3'])\n",
    "filtered_group2_np = filtered_np[group2_mask]\n",
    "half_np = len(filtered_group2_np) // 2\n",
    "first_half_np = filtered_group2_np[:half_np]\n",
    "second_half_np = filtered_group2_np[half_np:]\n",
    "final_np_selection = np.concatenate([first_half_np[::3], second_half_np[::4]])\n",
    "end = time.time()\n",
    "print(\"NumPy: після 18:00, >6кВт, група 2 max, кожен 3-й/4-й:\", round(end - start, 4), \"сек\")\n"
   ],
   "metadata": {
    "collapsed": false,
    "ExecuteTime": {
     "end_time": "2025-05-19T17:03:18.002708600Z",
     "start_time": "2025-05-19T17:02:08.801868800Z"
    }
   },
   "id": "d90fd63409b0e47f"
  },
  {
   "cell_type": "markdown",
   "source": [
    " --- Pandas версія ---"
   ],
   "metadata": {
    "collapsed": false
   },
   "id": "bb52c3f7f396e7df"
  },
  {
   "cell_type": "code",
   "execution_count": 6,
   "outputs": [
    {
     "name": "stdout",
     "output_type": "stream",
     "text": [
      "\n",
      "=== Pandas версія ===\n",
      "Час завантаження та очищення Pandas: 2.923 сек\n",
      "Pandas: Sub_metering_2 > Sub_metering_3: 0.0434 сек\n",
      "Pandas: 5000 випадкових записів: 0.0899 сек\n",
      "Pandas: Складна умова: 0.0125 сек\n",
      "Pandas: Вибір колонок: 0.0123 сек\n",
      "Pandas: Global_active_power > 5 кВт: 0.0069 сек\n",
      "Pandas: Voltage > 235 В: 0.1487 сек\n",
      "Pandas: Потужність 19-20А, група 2 найбільша: 0.0099 сек\n",
      "Pandas: 500000 записів, середнє: 0.2194 сек\n",
      "Середні значення Pandas:\n",
      " Sub_metering_1    1.118262\n",
      "Sub_metering_2    1.301106\n",
      "Sub_metering_3    6.462118\n",
      "dtype: float64\n",
      "Pandas: після 18:00, >6кВт, група 2 max, кожен 3-й/4-й: 7.5154 сек\n"
     ]
    }
   ],
   "source": [
    "print(\"\\n=== Pandas версія ===\")\n",
    "\n",
    "# Завантаження\n",
    "start = time.time()\n",
    "pandas_df = pd.read_csv(\"household_power_consumption.txt\", sep=';', na_values=['?'])\n",
    "pandas_df.dropna(inplace=True)\n",
    "end = time.time()\n",
    "print(\"Час завантаження та очищення Pandas:\", round(end - start, 4), \"сек\")\n",
    "\n",
    "# 1\n",
    "start = time.time()\n",
    "selected = pandas_df[pandas_df['Sub_metering_2'] > pandas_df['Sub_metering_3']]\n",
    "end = time.time()\n",
    "print(\"Pandas: Sub_metering_2 > Sub_metering_3:\", round(end - start, 4), \"сек\")\n",
    "\n",
    "# 2\n",
    "start = time.time()\n",
    "random_sample = pandas_df.sample(n=5000, replace=False)\n",
    "end = time.time()\n",
    "print(\"Pandas: 5000 випадкових записів:\", round(end - start, 4), \"сек\")\n",
    "\n",
    "# 3\n",
    "start = time.time()\n",
    "complex_selection = pandas_df[(pandas_df['Sub_metering_1'] > 1.0) & (pandas_df['Voltage'] > 240)]\n",
    "end = time.time()\n",
    "print(\"Pandas: Складна умова:\", round(end - start, 4), \"сек\")\n",
    "\n",
    "# 4\n",
    "start = time.time()\n",
    "selected_columns = pandas_df[['Voltage', 'Global_intensity']]\n",
    "end = time.time()\n",
    "print(\"Pandas: Вибір колонок:\", round(end - start, 4), \"сек\")\n",
    "\n",
    "# 5\n",
    "start = time.time()\n",
    "power_gt_5 = pandas_df[pandas_df['Global_active_power'] > 5]\n",
    "end = time.time()\n",
    "print(\"Pandas: Global_active_power > 5 кВт:\", round(end - start, 4), \"сек\")\n",
    "\n",
    "# 6\n",
    "start = time.time()\n",
    "voltage_gt_235 = pandas_df[pandas_df['Voltage'] > 235]\n",
    "end = time.time()\n",
    "print(\"Pandas: Voltage > 235 В:\", round(end - start, 4), \"сек\")\n",
    "\n",
    "# 7\n",
    "start = time.time()\n",
    "current_range = pandas_df[(pandas_df['Global_intensity'] >= 19) & (pandas_df['Global_intensity'] <= 20)]\n",
    "condition_groups = current_range[(current_range['Sub_metering_2'] > current_range['Sub_metering_1']) &\n",
    "                                 (current_range['Sub_metering_2'] > current_range['Sub_metering_3'])]\n",
    "end = time.time()\n",
    "print(\"Pandas: Потужність 19-20А, група 2 найбільша:\", round(end - start, 4), \"сек\")\n",
    "\n",
    "# 8\n",
    "start = time.time()\n",
    "sample_500k = pandas_df.sample(n=500000, replace=False)\n",
    "means = sample_500k[['Sub_metering_1', 'Sub_metering_2', 'Sub_metering_3']].mean()\n",
    "end = time.time()\n",
    "print(\"Pandas: 500000 записів, середнє:\", round(end - start, 4), \"сек\")\n",
    "print(\"Середні значення Pandas:\\n\", means)\n",
    "\n",
    "# 9\n",
    "start = time.time()\n",
    "pandas_df['Time'] = pd.to_datetime(pandas_df['Time'], format='%H:%M:%S', errors='coerce')\n",
    "filtered_time = pandas_df[(pandas_df['Time'].dt.hour >= 18) & (pandas_df['Global_active_power'] > 6)]\n",
    "filtered_group2 = filtered_time[(filtered_time['Sub_metering_2'] > filtered_time['Sub_metering_1']) &\n",
    "                                (filtered_time['Sub_metering_2'] > filtered_time['Sub_metering_3'])]\n",
    "half = len(filtered_group2) // 2\n",
    "first_half = filtered_group2.iloc[:half]\n",
    "second_half = filtered_group2.iloc[half:]\n",
    "final_selection = pd.concat([first_half.iloc[::3], second_half.iloc[::4]])\n",
    "end = time.time()\n",
    "print(\"Pandas: після 18:00, >6кВт, група 2 max, кожен 3-й/4-й:\", round(end - start, 4), \"сек\")"
   ],
   "metadata": {
    "collapsed": false,
    "ExecuteTime": {
     "end_time": "2025-05-19T17:03:29.020211700Z",
     "start_time": "2025-05-19T17:03:17.996373600Z"
    }
   },
   "id": "69e7200b52d8d969"
  }
 ],
 "metadata": {
  "kernelspec": {
   "display_name": "Python 3",
   "language": "python",
   "name": "python3"
  },
  "language_info": {
   "codemirror_mode": {
    "name": "ipython",
    "version": 2
   },
   "file_extension": ".py",
   "mimetype": "text/x-python",
   "name": "python",
   "nbconvert_exporter": "python",
   "pygments_lexer": "ipython2",
   "version": "2.7.6"
  }
 },
 "nbformat": 4,
 "nbformat_minor": 5
}
